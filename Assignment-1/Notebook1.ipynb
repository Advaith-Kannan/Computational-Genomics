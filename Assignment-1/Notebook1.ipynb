{
 "cells": [
  {
   "cell_type": "markdown",
   "id": "e5b1ae63",
   "metadata": {},
   "source": [
    "# Assignment-1: Computational Genomics\n",
    "## Task 1.1\n",
    "A dataset \"dataset.h5ad\" has been provided, which contains a single-cell gene expression matrix. The following are the tasks to be performed on this dataset. \n",
    "1. Quality control, normalization, feature selection and PCA.\n",
    "2. Following this, data is to be clustered using the Leiden Clustering Algorithm. \n",
    "3. Differential expression analysis is to be performed upon each cluster to identify the marker genes.  \n",
    "4. Based on the marker genes identified, the clusters obtained are to be annotated. "
   ]
  },
  {
   "cell_type": "markdown",
   "id": "b95e79f9",
   "metadata": {},
   "source": [
    "Note - the dataset can be accessed from the following link: [Large-Files](https://drive.google.com/drive/folders/1e78HYxcL1Z_czrz-b37Mc8F3HIk6b6th?usp=sharing). Let us begin this task by importing the required packages. "
   ]
  },
  {
   "cell_type": "code",
   "execution_count": 2,
   "id": "a3dc7a63",
   "metadata": {},
   "outputs": [],
   "source": [
    "import scanpy as sc \n",
    "import pandas as pd\n",
    "import numpy as np"
   ]
  },
  {
   "cell_type": "markdown",
   "id": "9d3776c5",
   "metadata": {},
   "source": [
    "Loading the dataset - "
   ]
  },
  {
   "cell_type": "code",
   "execution_count": 4,
   "id": "75f1d167",
   "metadata": {},
   "outputs": [
    {
     "data": {
      "text/plain": [
       "AnnData object with n_obs × n_vars = 10727 × 12303"
      ]
     },
     "execution_count": 4,
     "metadata": {},
     "output_type": "execute_result"
    }
   ],
   "source": [
    "matrix = sc.read('C:/Personal/Academics/IITK Resources/Sem-7/Computational-Genomics/Large-Files/dataset.h5ad')\n",
    "matrix"
   ]
  },
  {
   "cell_type": "markdown",
   "id": "e3e9dac9",
   "metadata": {},
   "source": [
    "What does this output mean? \n",
    "- n_obs refers to the number of cells. Hence, here we have 10,727 cells. \n",
    "- n_vars refers to the number of genes. This matrix contains details about 12,303 genes. "
   ]
  }
 ],
 "metadata": {
  "kernelspec": {
   "display_name": "Python 3 (ipykernel)",
   "language": "python",
   "name": "python3"
  },
  "language_info": {
   "codemirror_mode": {
    "name": "ipython",
    "version": 3
   },
   "file_extension": ".py",
   "mimetype": "text/x-python",
   "name": "python",
   "nbconvert_exporter": "python",
   "pygments_lexer": "ipython3",
   "version": "3.10.0"
  }
 },
 "nbformat": 4,
 "nbformat_minor": 5
}
