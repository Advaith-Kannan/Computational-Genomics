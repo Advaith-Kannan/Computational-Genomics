{
 "cells": [
  {
   "cell_type": "markdown",
   "id": "e5b1ae63",
   "metadata": {},
   "source": [
    "# Assignment-1: Computational Genomics\n",
    "## Task 1.1\n",
    "A dataset \"dataset.h5ad\" has been provided, which contains a single-cell gene expression matrix. The following are the tasks to be performed on this dataset. \n",
    "1. Quality control, normalization, feature selection and PCA.\n",
    "2. Following this, data is to be clustered using the Leiden Clustering Algorithm. \n",
    "3. Differential expression analysis is to be performed upon each cluster to identify the marker genes.  \n",
    "4. Based on the marker genes identified, the clusters obtained are to be annotated. "
   ]
  },
  {
   "cell_type": "markdown",
   "id": "b95e79f9",
   "metadata": {},
   "source": [
    "Note - the dataset can be accessed from the following link: [Large-Files](https://drive.google.com/drive/folders/1e78HYxcL1Z_czrz-b37Mc8F3HIk6b6th?usp=sharing). Let us begin this task by importing the required packages. \n",
    "\n",
    "### Loading the Dataset"
   ]
  },
  {
   "cell_type": "code",
   "execution_count": 3,
   "id": "a3dc7a63",
   "metadata": {},
   "outputs": [],
   "source": [
    "import scanpy as sc \n",
    "import pandas as pd\n",
    "import numpy as np"
   ]
  },
  {
   "cell_type": "code",
   "execution_count": 17,
   "id": "75f1d167",
   "metadata": {},
   "outputs": [
    {
     "data": {
      "text/plain": [
       "AnnData object with n_obs × n_vars = 10727 × 12303"
      ]
     },
     "execution_count": 17,
     "metadata": {},
     "output_type": "execute_result"
    }
   ],
   "source": [
    "matrix = sc.read('C:/Personal/Academics/IITK Resources/Sem-7/Computational-Genomics/Large-Files/dataset.h5ad')\n",
    "matrix"
   ]
  },
  {
   "cell_type": "markdown",
   "id": "e3e9dac9",
   "metadata": {},
   "source": [
    "What does this output mean? \n",
    "- n_obs refers to the number of cells. Hence, here we have 10,727 cells. \n",
    "- n_vars refers to the number of genes. This matrix contains details about 12,303 genes. \n",
    "\n",
    "Inspecting the AnnData object. "
   ]
  },
  {
   "cell_type": "code",
   "execution_count": 18,
   "id": "3c4ce5d0",
   "metadata": {},
   "outputs": [
    {
     "data": {
      "text/plain": [
       "Index(['0', '1', '2', '3', '4', '5', '6', '7', '8', '9',\n",
       "       ...\n",
       "       '12293', '12294', '12295', '12296', '12297', '12298', '12299', '12300',\n",
       "       '12301', '12302'],\n",
       "      dtype='object', length=12303)"
      ]
     },
     "execution_count": 18,
     "metadata": {},
     "output_type": "execute_result"
    }
   ],
   "source": [
    "matrix.var_names"
   ]
  },
  {
   "cell_type": "code",
   "execution_count": 19,
   "id": "c10c53e9",
   "metadata": {},
   "outputs": [
    {
     "data": {
      "text/plain": [
       "Index(['0', '1', '2', '3', '4', '5', '6', '7', '8', '9',\n",
       "       ...\n",
       "       '10717', '10718', '10719', '10720', '10721', '10722', '10723', '10724',\n",
       "       '10725', '10726'],\n",
       "      dtype='object', length=10727)"
      ]
     },
     "execution_count": 19,
     "metadata": {},
     "output_type": "execute_result"
    }
   ],
   "source": [
    "matrix.obs_names"
   ]
  },
  {
   "cell_type": "markdown",
   "id": "f28bcff2",
   "metadata": {},
   "source": [
    "Adding the gene IDs provided."
   ]
  },
  {
   "cell_type": "code",
   "execution_count": 20,
   "id": "218ad1d3",
   "metadata": {},
   "outputs": [
    {
     "data": {
      "text/html": [
       "<div>\n",
       "<style scoped>\n",
       "    .dataframe tbody tr th:only-of-type {\n",
       "        vertical-align: middle;\n",
       "    }\n",
       "\n",
       "    .dataframe tbody tr th {\n",
       "        vertical-align: top;\n",
       "    }\n",
       "\n",
       "    .dataframe thead th {\n",
       "        text-align: right;\n",
       "    }\n",
       "</style>\n",
       "<table border=\"1\" class=\"dataframe\">\n",
       "  <thead>\n",
       "    <tr style=\"text-align: right;\">\n",
       "      <th></th>\n",
       "      <th>0</th>\n",
       "    </tr>\n",
       "  </thead>\n",
       "  <tbody>\n",
       "    <tr>\n",
       "      <th>0</th>\n",
       "      <td>LINC00115</td>\n",
       "    </tr>\n",
       "    <tr>\n",
       "      <th>1</th>\n",
       "      <td>FAM41C</td>\n",
       "    </tr>\n",
       "    <tr>\n",
       "      <th>2</th>\n",
       "      <td>SAMD11</td>\n",
       "    </tr>\n",
       "    <tr>\n",
       "      <th>3</th>\n",
       "      <td>NOC2L</td>\n",
       "    </tr>\n",
       "    <tr>\n",
       "      <th>4</th>\n",
       "      <td>KLHL17</td>\n",
       "    </tr>\n",
       "    <tr>\n",
       "      <th>...</th>\n",
       "      <td>...</td>\n",
       "    </tr>\n",
       "    <tr>\n",
       "      <th>12298</th>\n",
       "      <td>YBEY</td>\n",
       "    </tr>\n",
       "    <tr>\n",
       "      <th>12299</th>\n",
       "      <td>PCNT</td>\n",
       "    </tr>\n",
       "    <tr>\n",
       "      <th>12300</th>\n",
       "      <td>DIP2A</td>\n",
       "    </tr>\n",
       "    <tr>\n",
       "      <th>12301</th>\n",
       "      <td>S100B</td>\n",
       "    </tr>\n",
       "    <tr>\n",
       "      <th>12302</th>\n",
       "      <td>PRMT2</td>\n",
       "    </tr>\n",
       "  </tbody>\n",
       "</table>\n",
       "<p>12303 rows × 1 columns</p>\n",
       "</div>"
      ],
      "text/plain": [
       "               0\n",
       "0      LINC00115\n",
       "1         FAM41C\n",
       "2         SAMD11\n",
       "3          NOC2L\n",
       "4         KLHL17\n",
       "...          ...\n",
       "12298       YBEY\n",
       "12299       PCNT\n",
       "12300      DIP2A\n",
       "12301      S100B\n",
       "12302      PRMT2\n",
       "\n",
       "[12303 rows x 1 columns]"
      ]
     },
     "execution_count": 20,
     "metadata": {},
     "output_type": "execute_result"
    }
   ],
   "source": [
    "gene_IDs = pd.read_csv('gene_names.csv')\n",
    "gene_IDs"
   ]
  },
  {
   "cell_type": "code",
   "execution_count": 21,
   "id": "765cba23",
   "metadata": {},
   "outputs": [
    {
     "data": {
      "text/plain": [
       "Index(['LINC00115', 'FAM41C', 'SAMD11', 'NOC2L', 'KLHL17', 'PLEKHN1', 'HES4',\n",
       "       'ISG15', 'AGRN', 'TTLL10',\n",
       "       ...\n",
       "       'COL6A2', 'FTCD', 'LSS', 'MCM3AP-AS1', 'MCM3AP', 'YBEY', 'PCNT',\n",
       "       'DIP2A', 'S100B', 'PRMT2'],\n",
       "      dtype='object', length=12303)"
      ]
     },
     "execution_count": 21,
     "metadata": {},
     "output_type": "execute_result"
    }
   ],
   "source": [
    "matrix.var_names = gene_IDs['0'].values\n",
    "matrix.var_names"
   ]
  }
 ],
 "metadata": {
  "kernelspec": {
   "display_name": "Python 3 (ipykernel)",
   "language": "python",
   "name": "python3"
  },
  "language_info": {
   "codemirror_mode": {
    "name": "ipython",
    "version": 3
   },
   "file_extension": ".py",
   "mimetype": "text/x-python",
   "name": "python",
   "nbconvert_exporter": "python",
   "pygments_lexer": "ipython3",
   "version": "3.10.0"
  }
 },
 "nbformat": 4,
 "nbformat_minor": 5
}
