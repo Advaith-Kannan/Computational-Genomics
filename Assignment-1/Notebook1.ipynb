{
 "cells": [
  {
   "cell_type": "markdown",
   "id": "e5b1ae63",
   "metadata": {},
   "source": [
    "# Assignment-1: Computational Genomics\n",
    "## Task 1.1\n",
    "A dataset \"dataset.h5ad\" has been provided, which contains a single-cell gene expression matrix. The following are the tasks to be performed on this dataset. \n",
    "1. Quality control, normalization, feature selection and PCA.\n",
    "2. Following this, data is to be clustered using the Leiden Clustering Algorithm. \n",
    "3. Differential expression analysis is to be performed upon each cluster to identify the marker genes.  \n",
    "4. Based on the marker genes identified, the clusters obtained are to be annotated. "
   ]
  }
 ],
 "metadata": {
  "kernelspec": {
   "display_name": "Python 3 (ipykernel)",
   "language": "python",
   "name": "python3"
  },
  "language_info": {
   "codemirror_mode": {
    "name": "ipython",
    "version": 3
   },
   "file_extension": ".py",
   "mimetype": "text/x-python",
   "name": "python",
   "nbconvert_exporter": "python",
   "pygments_lexer": "ipython3",
   "version": "3.10.0"
  }
 },
 "nbformat": 4,
 "nbformat_minor": 5
}
